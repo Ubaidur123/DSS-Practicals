{
 "cells": [
  {
   "cell_type": "markdown",
   "id": "b1cead01-2b4f-4326-b0a8-36d8d206c1c1",
   "metadata": {},
   "source": [
    "# CREATION OF ARRAY USING NUMPY"
   ]
  },
  {
   "cell_type": "code",
   "execution_count": 2,
   "id": "82e88257-f57d-4414-a58a-e429a5703518",
   "metadata": {},
   "outputs": [],
   "source": [
    "#EXP.NO.: 5"
   ]
  },
  {
   "cell_type": "code",
   "execution_count": 4,
   "id": "76909ea3-f1b8-4851-b6e2-0817eec3c46f",
   "metadata": {},
   "outputs": [],
   "source": [
    "#Aim : Creating Array using Numpy"
   ]
  },
  {
   "cell_type": "code",
   "execution_count": 6,
   "id": "76469e85-2432-4287-be83-1e78785f02f4",
   "metadata": {},
   "outputs": [],
   "source": [
    "#Name: UBAIDUR RAHMAN\n",
    "#Roll No.: 57\n",
    "#Sec: B\n",
    "#Subject:ET - 1\n"
   ]
  },
  {
   "cell_type": "code",
   "execution_count": 8,
   "id": "62db09b1-ffb3-4df1-8e60-111fb9b175af",
   "metadata": {},
   "outputs": [],
   "source": [
    "import numpy as np"
   ]
  },
  {
   "cell_type": "code",
   "execution_count": 10,
   "id": "f482ffef-3c3d-4078-be72-a47a7b4e6d2c",
   "metadata": {},
   "outputs": [
    {
     "name": "stdout",
     "output_type": "stream",
     "text": [
      "[1 2 3 4 5]\n"
     ]
    }
   ],
   "source": [
    "array_1d = np.array([1, 2, 3, 4, 5])\n",
    "print(array_1d)\n"
   ]
  },
  {
   "cell_type": "code",
   "execution_count": 12,
   "id": "c2b24169-c1df-4efb-be51-dfa389452482",
   "metadata": {},
   "outputs": [
    {
     "name": "stdout",
     "output_type": "stream",
     "text": [
      "[[1 2 3]\n",
      " [4 5 6]]\n"
     ]
    }
   ],
   "source": [
    "array_2d = np.array([[1, 2, 3], [4, 5, 6]])\n",
    "print(array_2d)"
   ]
  },
  {
   "cell_type": "code",
   "execution_count": 14,
   "id": "8a14df5c-4f6c-48f4-9641-d22bca2b47aa",
   "metadata": {},
   "outputs": [
    {
     "name": "stdout",
     "output_type": "stream",
     "text": [
      "[[0. 0. 0.]\n",
      " [0. 0. 0.]\n",
      " [0. 0. 0.]]\n"
     ]
    }
   ],
   "source": [
    "zeros_array = np.zeros((3, 3))\n",
    "print(zeros_array)\n"
   ]
  },
  {
   "cell_type": "code",
   "execution_count": 16,
   "id": "a9ea1cdf-8130-4f9f-92f7-35c69987edf7",
   "metadata": {},
   "outputs": [
    {
     "name": "stdout",
     "output_type": "stream",
     "text": [
      "[[1. 1. 1. 1.]\n",
      " [1. 1. 1. 1.]]\n"
     ]
    }
   ],
   "source": [
    "ones_array = np.ones((2, 4))\n",
    "print(ones_array)"
   ]
  },
  {
   "cell_type": "code",
   "execution_count": 18,
   "id": "f9267fbb-c0d5-4dbd-8db7-6cb468912742",
   "metadata": {},
   "outputs": [
    {
     "name": "stdout",
     "output_type": "stream",
     "text": [
      "[0 2 4 6 8]\n"
     ]
    }
   ],
   "source": [
    "range_array = np.arange(0, 10, 2) # Start, stop, step\n",
    "print(range_array)"
   ]
  },
  {
   "cell_type": "code",
   "execution_count": 20,
   "id": "a3233e1a-80d2-4ff6-a61f-5602ae263cd0",
   "metadata": {},
   "outputs": [
    {
     "name": "stdout",
     "output_type": "stream",
     "text": [
      "[[0.50916126 0.41514259 0.11571979]\n",
      " [0.94391903 0.42912861 0.83837548]\n",
      " [0.68384982 0.27671044 0.92058811]]\n"
     ]
    }
   ],
   "source": [
    "random_array = np.random.rand(3, 3)\n",
    "print(random_array)"
   ]
  }
 ],
 "metadata": {
  "kernelspec": {
   "display_name": "Python 3 (ipykernel)",
   "language": "python",
   "name": "python3"
  },
  "language_info": {
   "codemirror_mode": {
    "name": "ipython",
    "version": 3
   },
   "file_extension": ".py",
   "mimetype": "text/x-python",
   "name": "python",
   "nbconvert_exporter": "python",
   "pygments_lexer": "ipython3",
   "version": "3.12.4"
  }
 },
 "nbformat": 4,
 "nbformat_minor": 5
}
