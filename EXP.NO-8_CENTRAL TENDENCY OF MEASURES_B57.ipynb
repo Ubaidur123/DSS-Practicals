{
 "cells": [
  {
   "cell_type": "markdown",
   "id": "812a247d-d921-4ff4-885d-62bd9ed10e43",
   "metadata": {},
   "source": [
    "# CENTRAL TENDENCY OF MEASURES "
   ]
  },
  {
   "cell_type": "code",
   "execution_count": 4,
   "id": "6636b871-4244-45e1-a221-671343207855",
   "metadata": {},
   "outputs": [],
   "source": [
    "# EXP.NO.: 8"
   ]
  },
  {
   "cell_type": "code",
   "execution_count": 6,
   "id": "539d05a0-d911-4573-8bcf-f5064eb14c87",
   "metadata": {},
   "outputs": [],
   "source": [
    "# AIM : TO PERFORM OPERATION ON CENTRAL TENDECY OF MEASURES "
   ]
  },
  {
   "cell_type": "code",
   "execution_count": 8,
   "id": "aba1e317-4358-4b13-b309-7e6fa80a716a",
   "metadata": {},
   "outputs": [],
   "source": [
    "#Name: UBAIDUR RAHMAN\n",
    "#Roll No.: 57\n",
    "#Sec: B\n",
    "#Subject:ET - 1\n"
   ]
  },
  {
   "cell_type": "code",
   "execution_count": 10,
   "id": "6f9e048a-df1d-443d-a0b0-623409070479",
   "metadata": {},
   "outputs": [],
   "source": [
    "import pandas as pd\n",
    "import numpy as np"
   ]
  },
  {
   "cell_type": "code",
   "execution_count": 12,
   "id": "23022571-d1e9-471b-82c3-1b13f5ffaca7",
   "metadata": {},
   "outputs": [],
   "source": [
    "import os\n"
   ]
  },
  {
   "cell_type": "code",
   "execution_count": 14,
   "id": "e0a5dd1a-8af6-4c23-a862-51bf5a18e7fa",
   "metadata": {},
   "outputs": [
    {
     "data": {
      "text/plain": [
       "'C:\\\\Users\\\\Lenovo'"
      ]
     },
     "execution_count": 14,
     "metadata": {},
     "output_type": "execute_result"
    }
   ],
   "source": [
    "os.getcwd()"
   ]
  },
  {
   "cell_type": "code",
   "execution_count": 17,
   "id": "54c0187e-6b20-4d91-b9ea-438fecfbf427",
   "metadata": {},
   "outputs": [],
   "source": [
    "df=pd.read_csv(\"gender_submission.csv\")"
   ]
  },
  {
   "cell_type": "code",
   "execution_count": 19,
   "id": "e0683a6a-e82f-44fd-9f34-887d77925448",
   "metadata": {},
   "outputs": [
    {
     "name": "stdout",
     "output_type": "stream",
     "text": [
      "<class 'pandas.core.frame.DataFrame'>\n",
      "RangeIndex: 418 entries, 0 to 417\n",
      "Data columns (total 2 columns):\n",
      " #   Column       Non-Null Count  Dtype\n",
      "---  ------       --------------  -----\n",
      " 0   PassengerId  418 non-null    int64\n",
      " 1   Survived     418 non-null    int64\n",
      "dtypes: int64(2)\n",
      "memory usage: 6.7 KB\n",
      "None\n"
     ]
    }
   ],
   "source": [
    "print(df.info())"
   ]
  },
  {
   "cell_type": "code",
   "execution_count": 26,
   "id": "944d8a88-24ef-47cd-b0c9-c29fd9117b9c",
   "metadata": {},
   "outputs": [
    {
     "name": "stdout",
     "output_type": "stream",
     "text": [
      "Mean Passenger: 1100.5\n",
      "Mean survived: 0.36363636363636365\n"
     ]
    }
   ],
   "source": [
    "mean_PassengerId = df['PassengerId'].mean()\n",
    "mean_Survived = df['Survived'].mean()\n",
    "print(f\"Mean Passenger: {mean_PassengerId}\")\n",
    "print(f\"Mean survived: {mean_Survived}\")\n"
   ]
  },
  {
   "cell_type": "code",
   "execution_count": 28,
   "id": "7eb9ede3-1078-479b-a9e9-ea4a4b736646",
   "metadata": {},
   "outputs": [
    {
     "name": "stdout",
     "output_type": "stream",
     "text": [
      "Median Passenger: 1100.5\n",
      "Median survived: 0.0\n"
     ]
    }
   ],
   "source": [
    "median_PassengerId = df['PassengerId'].median()\n",
    "median_Survived = df['Survived'].median()\n",
    "print(f\"Median Passenger: {median_PassengerId}\")\n",
    "print(f\"Median survived: {median_Survived}\")\n"
   ]
  },
  {
   "cell_type": "code",
   "execution_count": 30,
   "id": "b8de5cb3-2da4-4ba9-986c-f6ee258ec212",
   "metadata": {},
   "outputs": [
    {
     "name": "stdout",
     "output_type": "stream",
     "text": [
      "Mode Passenger: 0       892\n",
      "1       893\n",
      "2       894\n",
      "3       895\n",
      "4       896\n",
      "       ... \n",
      "413    1305\n",
      "414    1306\n",
      "415    1307\n",
      "416    1308\n",
      "417    1309\n",
      "Name: PassengerId, Length: 418, dtype: int64\n",
      "Mode survived: 0    0\n",
      "Name: Survived, dtype: int64\n"
     ]
    }
   ],
   "source": [
    "mode_PassengerId = df['PassengerId'].mode()\n",
    "mode_Survived = df['Survived'].mode()\n",
    "print(f\"Mode Passenger: {mode_PassengerId}\")\n",
    "print(f\"Mode survived: {mode_Survived}\")\n"
   ]
  }
 ],
 "metadata": {
  "kernelspec": {
   "display_name": "Python 3 (ipykernel)",
   "language": "python",
   "name": "python3"
  },
  "language_info": {
   "codemirror_mode": {
    "name": "ipython",
    "version": 3
   },
   "file_extension": ".py",
   "mimetype": "text/x-python",
   "name": "python",
   "nbconvert_exporter": "python",
   "pygments_lexer": "ipython3",
   "version": "3.12.4"
  }
 },
 "nbformat": 4,
 "nbformat_minor": 5
}
